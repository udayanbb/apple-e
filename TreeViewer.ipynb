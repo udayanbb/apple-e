{
 "cells": [
  {
   "cell_type": "code",
   "execution_count": null,
   "id": "9e9adea8-e492-4556-ba0e-4167261e76da",
   "metadata": {},
   "outputs": [],
   "source": [
    "import os\n",
    "\n",
    "from pydrake.geometry import StartMeshcat\n",
    "from pydrake.visualization import ModelVisualizer\n",
    "from manipulation.station import MakeHardwareStation, load_scenario\n",
    "from pydrake.all import (\n",
    "    Simulator,\n",
    ")"
   ]
  },
  {
   "cell_type": "code",
   "execution_count": null,
   "id": "f8e774a3-6c58-4aca-aea6-56226c2ee4ac",
   "metadata": {},
   "outputs": [],
   "source": [
    "meshcat = StartMeshcat()"
   ]
  },
  {
   "cell_type": "code",
   "execution_count": null,
   "id": "208a5679-0811-4aa5-a527-106168c4e7c9",
   "metadata": {},
   "outputs": [],
   "source": [
    "your_model_filename = \"/Users/udayan/Documents/SEAS/6.4212/Psets/7Pset/Tree/tree.sdf\" # Write the absolute path to your file here\n",
    "if your_model_filename:\n",
    "    visualizer = ModelVisualizer(meshcat=meshcat)\n",
    "    visualizer.parser().AddModels(your_model_filename)\n",
    "    visualizer.Run(loop_once=True)"
   ]
  },
  {
   "cell_type": "code",
   "execution_count": null,
   "id": "e3442f5b-f93d-4289-976d-728427c8e47c",
   "metadata": {},
   "outputs": [],
   "source": [
    "scenario_data = f\"\"\"\n",
    "directives:\n",
    "- add_model:\n",
    "    name: your_model\n",
    "    file: file://{your_model_filename}\n",
    "    default_free_body_pose:\n",
    "        branch_a: # Change here!\n",
    "            translation: [0, 0, 1]\n",
    "            rotation: !Rpy {{ deg: [0, 0, 0] }}\n",
    "- add_frame:\n",
    "    name: tree_on_world\n",
    "    X_PF:\n",
    "        base_frame: world\n",
    "        translation: [0, 0, 0.5]\n",
    "        rotation: !Rpy {{ deg: [0, 0, 0] }}\n",
    "- add_weld:\n",
    "    parent: tree_on_world\n",
    "    child: your_model::branch_a    \n",
    "\"\"\"\n",
    "    \n",
    "scenario = load_scenario(data=scenario_data)\n",
    "station = MakeHardwareStation(scenario, meshcat)\n",
    "simulator = Simulator(station)\n",
    "meshcat.StartRecording()\n",
    "simulator.AdvanceTo(2.0)\n",
    "meshcat.PublishRecording()\n"
   ]
  },
  {
   "cell_type": "code",
   "execution_count": null,
   "id": "ef4ddc80-cf53-49ad-ad44-4e51fa4e7f26",
   "metadata": {},
   "outputs": [],
   "source": []
  }
 ],
 "metadata": {
  "kernelspec": {
   "display_name": "Python 3 (ipykernel)",
   "language": "python",
   "name": "python3"
  },
  "language_info": {
   "codemirror_mode": {
    "name": "ipython",
    "version": 3
   },
   "file_extension": ".py",
   "mimetype": "text/x-python",
   "name": "python",
   "nbconvert_exporter": "python",
   "pygments_lexer": "ipython3",
   "version": "3.11.5"
  }
 },
 "nbformat": 4,
 "nbformat_minor": 5
}
